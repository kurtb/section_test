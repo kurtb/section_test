{
 "cells": [
  {
   "cell_type": "markdown",
   "id": "f33fa9b9-a9ed-47ee-ac9a-b93874e805f9",
   "metadata": {},
   "source": [
    "# My cool notebook"
   ]
  },
  {
   "cell_type": "code",
   "execution_count": 8,
   "id": "c1ca87b2-c4eb-4c64-bfd3-5f4b0428ec30",
   "metadata": {},
   "outputs": [],
   "source": [
    "from transformers import pipeline"
   ]
  },
  {
   "cell_type": "code",
   "execution_count": 9,
   "id": "d0386130-337e-4361-8293-cb95ba21bec9",
   "metadata": {},
   "outputs": [
    {
     "name": "stdout",
     "output_type": "stream",
     "text": [
      "Hello there\n"
     ]
    }
   ],
   "source": [
    "print(\"Hello there\")"
   ]
  },
  {
   "cell_type": "code",
   "execution_count": 10,
   "id": "67a25375-5602-4bd1-88c3-8c31906f252b",
   "metadata": {},
   "outputs": [],
   "source": [
    "result = pipeline('sentiment-analysis')('I love to code!')"
   ]
  },
  {
   "cell_type": "code",
   "execution_count": 11,
   "id": "909453f9-72b4-423a-a52c-56c2662b0505",
   "metadata": {},
   "outputs": [
    {
     "name": "stdout",
     "output_type": "stream",
     "text": [
      "[{'label': 'POSITIVE', 'score': 0.9998444318771362}]\n"
     ]
    }
   ],
   "source": [
    "print(result)"
   ]
  }
 ],
 "metadata": {
  "kernelspec": {
   "display_name": "Python 3",
   "language": "python",
   "name": "python3"
  },
  "language_info": {
   "codemirror_mode": {
    "name": "ipython",
    "version": 3
   },
   "file_extension": ".py",
   "mimetype": "text/x-python",
   "name": "python",
   "nbconvert_exporter": "python",
   "pygments_lexer": "ipython3",
   "version": "3.8.5"
  }
 },
 "nbformat": 4,
 "nbformat_minor": 5
}
